{
 "cells": [
  {
   "cell_type": "code",
   "execution_count": null,
   "id": "58f1cd45-b69b-49fd-a066-e8f7abedff5b",
   "metadata": {},
   "outputs": [],
   "source": [
    "#!pip install GitPython textblob nltk pandas seaborn matplotlib   --quiet"
   ]
  },
  {
   "cell_type": "code",
   "execution_count": null,
   "id": "a8fe5c08-282f-44f1-b1c2-01ce34b58dbc",
   "metadata": {},
   "outputs": [],
   "source": [
    "# repo = Repo.clone_from(\"https://github.com/pola-rs/polars\", \"./_git_polars_/\")"
   ]
  },
  {
   "cell_type": "code",
   "execution_count": null,
   "id": "1be1dff6-08ba-4708-89f5-656d73993e67",
   "metadata": {},
   "outputs": [],
   "source": [
    "# !rm -rf _git_pandas_\n",
    "# !rm -rf _git_polars_"
   ]
  },
  {
   "cell_type": "markdown",
   "id": "7a312ae0-7fd1-4ee8-9c1d-b76c80609e11",
   "metadata": {},
   "source": [
    "### Loading data and preprocessing"
   ]
  },
  {
   "cell_type": "code",
   "execution_count": null,
   "id": "457a5d7c-0feb-4436-9797-5e2c70cf8c8c",
   "metadata": {},
   "outputs": [],
   "source": [
    "import re\n",
    "from datetime import datetime\n",
    "\n",
    "import matplotlib.pyplot as plt\n",
    "import pandas as pd\n",
    "import seaborn as sns\n",
    "from git import Repo\n",
    "\n",
    "sns.set_theme(context=\"notebook\")\n",
    "\n",
    "pd.options.display.max_colwidth = 300\n",
    "\n",
    "\n",
    "## clone the repo \n",
    "repo = Repo.clone_from(\"https://github.com/pandas-dev/pandas.git\", \"./_git_pandas_/\")\n",
    "\n",
    "## with existing repo \n",
    "# repo=Repo(\"./_git_pandas_/\")"
   ]
  },
  {
   "cell_type": "code",
   "execution_count": null,
   "id": "e675a744-7a6f-4637-a0dc-5d7c91087d72",
   "metadata": {},
   "outputs": [],
   "source": [
    "# reading commit messages\n",
    "commits = list(repo.iter_commits(\"main\"))\n",
    "commit_details = [\n",
    "    (commit.committed_datetime.timestamp(), commit.author.email.lower(), commit.message)\n",
    "    for commit in commits\n",
    "]\n",
    "df = pd.DataFrame(commit_details)\n",
    "df.columns = [\"date\", \"email\", \"message\"]\n",
    "df[\"date\"] = df[\"date\"].astype(\"datetime64[s]\")\n",
    "\n",
    "# obfuscating emails\n",
    "df[\"email\"] = df[\"email\"].apply(\n",
    "    lambda x: \"\".join([chr(ord(l) + 1) for l in x.split(\"@\")[0]])[:6]\n",
    "    + \"@\"\n",
    "    + \"\".join(x.split(\"@\")[1:])\n",
    ")"
   ]
  },
  {
   "cell_type": "code",
   "execution_count": null,
   "id": "60eef7a6-fb3a-47c1-9407-b5c555cdf491",
   "metadata": {},
   "outputs": [],
   "source": [
    "df.head(4)"
   ]
  },
  {
   "cell_type": "code",
   "execution_count": null,
   "id": "9518e33b-87e5-482b-9cfc-9109f931de94",
   "metadata": {},
   "outputs": [],
   "source": [
    "df.shape"
   ]
  },
  {
   "cell_type": "code",
   "execution_count": null,
   "id": "9fc99585-ef46-442e-a270-3cf4a7d2b9dc",
   "metadata": {},
   "outputs": [],
   "source": [
    "df.head(3)"
   ]
  },
  {
   "cell_type": "code",
   "execution_count": null,
   "id": "fbe7475b-a54a-48f7-93df-f68a9c77428e",
   "metadata": {},
   "outputs": [],
   "source": [
    "# clean messages, extract words in UPPER CASE , extract abbreviations\n",
    "import re\n",
    "\n",
    "def clean_message(message):\n",
    "    # lower case, replace newlines, git-related words\n",
    "    message = re.sub(\n",
    "        r\"merge pull request #\\d+|\\s+|\\:|git|github|-svn-id|commit|\\(\\#\\d+\\)|\\[pre\\-\\.ci\\]|(\\w+\\-){3,}\\w+\\s+|http:.*.\\s|[A-Za-z0-9_+,.]{1,}@([A-Za-z0-9_+,.]{1,}?(\\.\\w+)){3,}\",\n",
    "        \" \",\n",
    "        message,\n",
    "    ).strip()\n",
    "\n",
    "    message = re.sub(\n",
    "        r\"-\",\n",
    "        \" \",\n",
    "        message,\n",
    "    ).strip()\n",
    "\n",
    "    return message\n",
    "\n",
    "df[\"raw\"]=df['message']\n",
    "\n",
    "df[\"message\"] = df[\"message\"].apply(clean_message)"
   ]
  },
  {
   "cell_type": "code",
   "execution_count": null,
   "id": "63a852b7-8e73-47b9-a4c5-2c495bd3ded8",
   "metadata": {},
   "outputs": [],
   "source": [
    "df.head(4)"
   ]
  },
  {
   "cell_type": "code",
   "execution_count": null,
   "id": "ffce0b1a-2237-49ad-bd49-847b312b30a4",
   "metadata": {},
   "outputs": [],
   "source": [
    "df[\"tkns_in_upper_case\"] = df[\"message\"].apply(\n",
    "    lambda x: set(re.findall(\" ([A-Z]{3,})\", x))\n",
    ")\n",
    "df[\"ntkns_in_upper_case\"] = df[\"tkns_in_upper_case\"].str.len()\n",
    "\n",
    "abbrv = list()\n",
    "for cell in df[df[\"ntkns_in_upper_case\"] > 0][\"tkns_in_upper_case\"].to_list():\n",
    "    for tk in cell:\n",
    "        abbrv.append(tk)\n",
    "\n",
    "print(\"abbreviations extracted\", len(abbrv), \", some examples:\", abbrv[:10])\n",
    "abbrv = pd.Series(abbrv).value_counts().head(50).index.to_list()\n",
    "abbrv.extend([\"AFAIK\", \"MANIFEST\"])\n",
    "\n",
    "df[\"abbrv\"] = df[\"tkns_in_upper_case\"].apply(\n",
    "    lambda x: \",\".join(x.intersection(set(abbrv)))\n",
    ")\n",
    "\n",
    "df[\"tkns_in_upper_case\"] = df[\"tkns_in_upper_case\"].apply(\n",
    "    lambda x: \",\".join(x.difference(set(abbrv)))\n",
    ")\n",
    "df[\"ntkns_in_upper_case\"] = df[\"tkns_in_upper_case\"].str.split(\",\").str.len()"
   ]
  },
  {
   "cell_type": "code",
   "execution_count": null,
   "id": "7eb04a7e-68ba-4d20-a3fa-a6486444c365",
   "metadata": {},
   "outputs": [],
   "source": [
    "df[df[\"ntkns_in_upper_case\"] > 3].head(1)"
   ]
  },
  {
   "cell_type": "markdown",
   "id": "66c89a34-44a8-46c0-ab5f-8f2739e6f2bb",
   "metadata": {},
   "source": [
    "## Descriptive stats"
   ]
  },
  {
   "cell_type": "code",
   "execution_count": null,
   "id": "e0836021-1653-4e0a-aee7-7ae718c2b1ae",
   "metadata": {},
   "outputs": [],
   "source": [
    "fig, ax = plt.subplots(1, figsize=(8, 5), sharex=True)\n",
    "ax2 = ax.twinx()\n",
    "\n",
    "df[\"period\"] = df[\"date\"].dt.to_period(\"1Y\")\n",
    "df.groupby(\"period\").size().plot(\n",
    "    ax=ax, kind=\"bar\", title=\"Number of commits per year\", position=1\n",
    ")\n",
    "df.groupby(\"period\").agg(uniq_contrib=(\"email\", \"nunique\")).plot(\n",
    "    ax=ax2, kind=\"bar\", width=0.2, grid=False, position=0, color=\"grey\"\n",
    ")\n",
    "ax.set_ylabel(\"N-commits\")\n",
    "ax2.set_ylabel(\"N-uniq contributors\")\n",
    "plt.tight_layout()\n",
    "plt.show()"
   ]
  },
  {
   "cell_type": "code",
   "execution_count": null,
   "id": "6ea727da-1ed2-484b-b8fb-169e9108806c",
   "metadata": {},
   "outputs": [],
   "source": [
    "## ^ this might reflect the product phase"
   ]
  },
  {
   "attachments": {
    "122ad0a7-77ed-4b16-b4d7-513eb33c699f.png": {
     "image/png": "[encoded data removed]"
    }
   },
   "cell_type": "markdown",
   "id": "b8faf11e-3142-42da-b015-0b365d155656",
   "metadata": {},
   "source": [
    "![afbeelding.png](attachment:122ad0a7-77ed-4b16-b4d7-513eb33c699f.png)"
   ]
  },
  {
   "cell_type": "code",
   "execution_count": null,
   "id": "24670dde-0a1f-4450-b50c-6488b72bddb1",
   "metadata": {},
   "outputs": [],
   "source": [
    "# seasonality, when the project is progressing\n",
    "\n",
    "fig, ax = plt.subplots(1)\n",
    "df.groupby([df.date.dt.month, df.date.dt.year]).size().unstack().plot(\n",
    "    ax=ax, kind=\"bar\", stacked=True, title=\"Number of commits per month\"\n",
    ")\n",
    "ax.legend(\n",
    "    loc=\"upper center\", bbox_to_anchor=(0.5, -0.2), fancybox=True, shadow=True, ncol=5\n",
    ")\n",
    "plt.tight_layout()\n",
    "plt.show()"
   ]
  },
  {
   "cell_type": "code",
   "execution_count": null,
   "id": "0ece9705-37a9-47b3-9418-3d948def835c",
   "metadata": {},
   "outputs": [],
   "source": [
    "# main contributers\n",
    "df[\"email\"].value_counts(normalize=True).head(20).plot(\n",
    "    kind=\"barh\", title=\"main contributers\"\n",
    ")"
   ]
  },
  {
   "cell_type": "markdown",
   "id": "62b0645e-f17d-457a-8f55-726b07f9b3ea",
   "metadata": {},
   "source": [
    "## word frequencies "
   ]
  },
  {
   "cell_type": "code",
   "execution_count": null,
   "id": "9b039201-9950-40ba-be30-6ce5f51d0d95",
   "metadata": {},
   "outputs": [],
   "source": [
    "from collections import Counter"
   ]
  },
  {
   "cell_type": "code",
   "execution_count": null,
   "id": "23cc1d56-ef02-4e83-a05d-ed92738bef47",
   "metadata": {},
   "outputs": [],
   "source": [
    "all_words = \" \".join(df[\"message\"].to_list()).split()\n",
    "common_words = Counter(all_words).most_common(1000)"
   ]
  },
  {
   "cell_type": "code",
   "execution_count": null,
   "id": "ce739bdd-1f07-4df4-9bb8-37b8ffbd4007",
   "metadata": {},
   "outputs": [],
   "source": [
    "common_words[:20]"
   ]
  },
  {
   "cell_type": "markdown",
   "id": "5e5c7e5b-0c0d-43da-bdc7-8085c940ecc7",
   "metadata": {},
   "source": [
    "^ not very meaningfull , what we can do ?"
   ]
  },
  {
   "cell_type": "code",
   "execution_count": null,
   "id": "7ba13991-d4fc-4d80-9868-d443731100b9",
   "metadata": {},
   "outputs": [],
   "source": [
    "## Stop word - is a commonly used word, which doesn't add much of additional information"
   ]
  },
  {
   "cell_type": "code",
   "execution_count": null,
   "id": "c99628a7-9db9-449e-b2c9-258554a1fbdd",
   "metadata": {},
   "outputs": [],
   "source": [
    "from nltk.corpus import stopwords"
   ]
  },
  {
   "cell_type": "code",
   "execution_count": null,
   "id": "eb31dbfd-ef09-4a68-9591-cda1459d2e31",
   "metadata": {},
   "outputs": [],
   "source": [
    "list(stopwords.words(\"english\"))[:10]"
   ]
  },
  {
   "cell_type": "code",
   "execution_count": null,
   "id": "ca364701-eaa7-4692-b0ef-9466041c1b0c",
   "metadata": {},
   "outputs": [],
   "source": [
    "stopwords.words(\"english\").extend(abbrv)"
   ]
  },
  {
   "cell_type": "code",
   "execution_count": null,
   "id": "2400982f-616d-4c93-8107-e60ad3eff6d8",
   "metadata": {
    "scrolled": true
   },
   "outputs": [],
   "source": [
    "[(word, count, word in stopwords.words(\"english\")) for word, count in common_words][:20]"
   ]
  },
  {
   "cell_type": "code",
   "execution_count": null,
   "id": "e8f6c7ca-b2ac-41a9-ab30-65b5bdd31b86",
   "metadata": {},
   "outputs": [],
   "source": [
    "# extending stop words\n",
    "\n",
    "my_stopwords = set(stopwords.words(\"english\"))\n",
    "my_stopwords.update(\n",
    "    {\"fix\", \"add\", \"python\", \"type\", \"test\", \"text\", \"change\", \"file\", \"make\", \"master\"}\n",
    ")\n",
    "my_stopwords.update(set(abbrv))"
   ]
  },
  {
   "cell_type": "code",
   "execution_count": null,
   "id": "090f7e95-a9b2-4e1b-b6df-db6a649adc54",
   "metadata": {},
   "outputs": [],
   "source": [
    "[(word, count) for word, count in common_words if word not in my_stopwords][:20]"
   ]
  },
  {
   "cell_type": "markdown",
   "id": "a43ac2c3-dd75-4eec-ad18-1313f9df7e57",
   "metadata": {},
   "source": [
    "^ - we have same words here, like 'fixed' and 'fixes' ;   TODO: fine tune stop words - as not meaningfull "
   ]
  },
  {
   "cell_type": "markdown",
   "id": "a70d6de3-3c16-4088-bafc-a3f7e73fbab8",
   "metadata": {},
   "source": [
    "## Tokenization, lemmatization \n",
    "Token - is the part of the text, i.e. sentence, word. Here we'll split text by word.\n",
    "\n",
    "Lemma - is the root of the word, i.e.  \"fixing\" \"fixed\" \"to fix\"  would be transformed into a single word"
   ]
  },
  {
   "cell_type": "code",
   "execution_count": null,
   "id": "c45f4431-4937-42fb-b436-b39a6e9802ef",
   "metadata": {},
   "outputs": [],
   "source": [
    "import nltk\n",
    "from nltk.stem import WordNetLemmatizer\n",
    "from nltk.tokenize import word_tokenize\n",
    "\n",
    "\n",
    "def get_lemmas(text):\n",
    "    tokens = word_tokenize(text.lower())\n",
    "    lemmatizer = WordNetLemmatizer()\n",
    "    stop_words = my_stopwords\n",
    "    processed_tokens = [\n",
    "        lemmatizer.lemmatize(word)\n",
    "        for word in tokens\n",
    "        if word not in stop_words and word.isalpha()\n",
    "    ]\n",
    "    return \" \".join(processed_tokens)\n",
    "\n",
    "\n",
    "def get_tagged_lemmas(text):\n",
    "    tokens = word_tokenize(text.lower())\n",
    "    lemmatizer = WordNetLemmatizer()\n",
    "    stop_words = my_stopwords\n",
    "    processed_tokens = [\n",
    "        lemmatizer.lemmatize(word)\n",
    "        for word in tokens\n",
    "        if word not in stop_words and word.isalpha()\n",
    "    ]\n",
    "\n",
    "    tagged = nltk.tag.pos_tag(processed_tokens)\n",
    "    return tagged"
   ]
  },
  {
   "cell_type": "code",
   "execution_count": null,
   "id": "86945eea-cbea-4570-a8cc-ea952f279f03",
   "metadata": {},
   "outputs": [],
   "source": [
    "df[\"message_lemmas\"] = df[\"message\"].apply(get_lemmas)"
   ]
  },
  {
   "cell_type": "code",
   "execution_count": null,
   "id": "66e5dbec-9402-40c4-8e83-96b839a7d493",
   "metadata": {},
   "outputs": [],
   "source": [
    "df[\"message_tagged_lemmas\"] = df[\"message\"].apply(get_tagged_lemmas)"
   ]
  },
  {
   "cell_type": "code",
   "execution_count": null,
   "id": "372a7f70-4601-43b2-a2a1-d530ca27719f",
   "metadata": {},
   "outputs": [],
   "source": [
    "df[[\"message\", \"message_lemmas\", \"message_tagged_lemmas\"]].head(3)"
   ]
  },
  {
   "cell_type": "code",
   "execution_count": null,
   "id": "48302aa7-d20c-4968-96f2-a37c0bbbc650",
   "metadata": {},
   "outputs": [],
   "source": [
    "from collections import Counter\n",
    "\n",
    "all_words = \" \".join(df[\"message_lemmas\"].to_list()).split()\n",
    "common_words = Counter(all_words).most_common(1000)"
   ]
  },
  {
   "cell_type": "code",
   "execution_count": null,
   "id": "1795f594-0ae2-4933-987f-d60342f04186",
   "metadata": {
    "scrolled": true
   },
   "outputs": [],
   "source": [
    "top_words=[(word, count) for word, count in common_words if word not in my_stopwords][:50]\n",
    "top_words"
   ]
  },
  {
   "cell_type": "code",
   "execution_count": null,
   "id": "6c67cb2d-9a46-473f-b91c-44f4543df295",
   "metadata": {},
   "outputs": [],
   "source": [
    "df[['message_lemmas','message']]"
   ]
  },
  {
   "cell_type": "markdown",
   "id": "b32209e5-196d-479d-862d-3ac850d7e7f3",
   "metadata": {},
   "source": [
    "###  classifying commits by using lemmas"
   ]
  },
  {
   "cell_type": "code",
   "execution_count": null,
   "id": "8d4d263d-4351-441c-8972-f3ecafbf86e7",
   "metadata": {},
   "outputs": [],
   "source": [
    "df[\"is_bug\"] = df[\"message_lemmas\"].apply(\n",
    "    lambda x: bool(\n",
    "        [\n",
    "            token\n",
    "            for token in x.split(\" \")\n",
    "            if token in [\"bug\", \"issue\", \"fix\", \"correct\", \"fixes\", \"fixed\", \"error\"]\n",
    "        ]\n",
    "    )\n",
    ")"
   ]
  },
  {
   "cell_type": "code",
   "execution_count": null,
   "id": "8c0d81ff-58ed-4e67-8b4b-f71de128c9a2",
   "metadata": {},
   "outputs": [],
   "source": [
    "df = df.join(\n",
    "    df[~df[\"is_bug\"]][\"message_lemmas\"]\n",
    "    .apply(\n",
    "        lambda x: bool(\n",
    "            [token for token in x.split(\" \") if token in [\"feature\", \"whatsnew\", \"new\"]]\n",
    "        )\n",
    "    )\n",
    "    .rename(\"is_feature\")\n",
    ")"
   ]
  },
  {
   "cell_type": "code",
   "execution_count": null,
   "id": "392a5d90-59c0-4bba-9aec-294f618c5940",
   "metadata": {},
   "outputs": [],
   "source": [
    "df[\"is_feature\"] = df[\"is_feature\"].fillna(False)"
   ]
  },
  {
   "cell_type": "code",
   "execution_count": null,
   "id": "0db7df92-b942-4d36-8b42-d3a6873a220d",
   "metadata": {},
   "outputs": [],
   "source": [
    "# vocabulary\n",
    "vocabulary = (\n",
    "    df.set_index([\"is_bug\", \"is_feature\"])[\"message_lemmas\"]\n",
    "    .str.split(\" \")\n",
    "    .explode()\n",
    "    .drop_duplicates()\n",
    "    .reset_index()\n",
    ")"
   ]
  },
  {
   "cell_type": "code",
   "execution_count": null,
   "id": "20938bc6-cb04-48c0-b4b0-41ddb5a869fe",
   "metadata": {},
   "outputs": [],
   "source": [
    "bug_vocab=list(vocabulary[vocabulary[\"is_bug\"]]['message_lemmas'].unique())"
   ]
  },
  {
   "cell_type": "code",
   "execution_count": null,
   "id": "87fe9b3b-6927-44f3-8197-a30bdf5cd6c8",
   "metadata": {},
   "outputs": [],
   "source": [
    "feature_vocab=list(vocabulary[vocabulary[\"is_feature\"]]['message_lemmas'].unique())"
   ]
  },
  {
   "cell_type": "code",
   "execution_count": null,
   "id": "48e4437b-6acd-4443-b639-fba7faa69cc7",
   "metadata": {},
   "outputs": [],
   "source": [
    "df.groupby(\"period\")[\"is_bug\"].sum().plot(kind=\"bar\", position=0, color=\"red\")\n",
    "df.groupby(\"period\")[\"is_feature\"].sum().plot(\n",
    "    kind=\"bar\", position=1, color=\"green\", title=\"number of bugs / features per year\"\n",
    ")\n",
    "plt.legend()"
   ]
  },
  {
   "cell_type": "markdown",
   "id": "b55f9c03-a10e-436e-af3b-e055f3dfab24",
   "metadata": {},
   "source": [
    "## Triggering words "
   ]
  },
  {
   "cell_type": "code",
   "execution_count": null,
   "id": "0d7735e9-d127-4cb8-a351-edd4468aa9ae",
   "metadata": {},
   "outputs": [],
   "source": [
    "## lets search for any agressive or bad wourds in messages\n",
    "bad_words = pd.read_csv(\"https://www.cs.cmu.edu/~biglou/resources/bad-words.txt\")"
   ]
  },
  {
   "cell_type": "code",
   "execution_count": null,
   "id": "0a4ce70a-e3da-4c35-b485-1a20b156748d",
   "metadata": {},
   "outputs": [],
   "source": [
    "bad_words.columns = [\"word\"]"
   ]
  },
  {
   "cell_type": "code",
   "execution_count": null,
   "id": "3dd1f650-7279-4b3a-83ef-80d5c32db19d",
   "metadata": {},
   "outputs": [],
   "source": [
    "bad_words = bad_words[\"word\"].apply(WordNetLemmatizer().lemmatize).to_list()"
   ]
  },
  {
   "cell_type": "code",
   "execution_count": null,
   "id": "01fc4d15-ec2b-43c4-83ed-7742e5f66b66",
   "metadata": {},
   "outputs": [],
   "source": [
    "my_stopwords.update(\n",
    "    {\n",
    "        \"failure\",\n",
    "        \"black\",\n",
    "        \"failed\",\n",
    "        \"executed\",\n",
    "        \"execute\",\n",
    "        \"reject\",\n",
    "        \"crash\",\n",
    "        \"corruption\",\n",
    "    }\n",
    ")"
   ]
  },
  {
   "cell_type": "code",
   "execution_count": null,
   "id": "bdef4581-876c-4d12-a3f4-aff2ca8cd551",
   "metadata": {},
   "outputs": [],
   "source": [
    "df[\"bad_words\"] = df[\"message_lemmas\"].apply(\n",
    "    lambda x: \",\".join(\n",
    "        list(\n",
    "            set(\n",
    "                token\n",
    "                for token in x.split(\" \")\n",
    "                if all([token in bad_words, token not in my_stopwords])\n",
    "            )\n",
    "        )\n",
    "    )\n",
    ")"
   ]
  },
  {
   "cell_type": "code",
   "execution_count": null,
   "id": "b6d4e4b1-e798-4c42-9371-2ec35570fa79",
   "metadata": {},
   "outputs": [],
   "source": [
    "df[df[\"bad_words\"].str.len() > 0][\"bad_words\"].unique()"
   ]
  },
  {
   "cell_type": "code",
   "execution_count": null,
   "id": "92f73521-ed3c-471d-b394-56da0b499179",
   "metadata": {},
   "outputs": [],
   "source": [
    "df[df[\"bad_words\"].str.len() > 0][\"email\"].value_counts().head(5)"
   ]
  },
  {
   "cell_type": "code",
   "execution_count": null,
   "id": "31d6b1ad-8cb0-42a3-b2e1-297be7eb1bfa",
   "metadata": {
    "scrolled": true
   },
   "outputs": [],
   "source": [
    "df[df[\"bad_words\"] == \"dumb\"]"
   ]
  },
  {
   "cell_type": "markdown",
   "id": "1319a5c4-9108-4294-aa87-73a4ffb3565d",
   "metadata": {},
   "source": [
    "## Sentiment analysis \n",
    "example: lets search for very negative and very positive sentiment words"
   ]
  },
  {
   "cell_type": "code",
   "execution_count": null,
   "id": "7fb27dbe-9117-4af8-839b-97730a69fa84",
   "metadata": {},
   "outputs": [],
   "source": [
    "from nltk.corpus import sentiwordnet as swn"
   ]
  },
  {
   "cell_type": "code",
   "execution_count": null,
   "id": "b3e6cdc6-7767-4202-91b6-88345c86395b",
   "metadata": {},
   "outputs": [],
   "source": [
    "list(swn.senti_synsets(\"bug\"))"
   ]
  },
  {
   "cell_type": "code",
   "execution_count": null,
   "id": "1e32d184-3f59-4588-a67f-b0032b164c27",
   "metadata": {},
   "outputs": [],
   "source": [
    "list(swn.senti_synsets(\"feature\", \"n\"))[0].neg_score()"
   ]
  },
  {
   "cell_type": "code",
   "execution_count": null,
   "id": "06f4cc26-d552-4fb2-b02f-46d7a1934b21",
   "metadata": {
    "scrolled": true
   },
   "outputs": [],
   "source": [
    "list(swn.senti_synsets(\"exciting\", \"a\"))[0].pos_score()"
   ]
  },
  {
   "cell_type": "code",
   "execution_count": null,
   "id": "5d6ee1fd-f9ee-4552-a87c-5304803fe766",
   "metadata": {},
   "outputs": [],
   "source": [
    "swn_tagpos_mapping = {\"NN\": \"n\", \"VBG\": \"s\", \"RB\": \"a\", \"FW\": \"n\"}"
   ]
  },
  {
   "cell_type": "code",
   "execution_count": null,
   "id": "a275696c-d72c-4edb-b594-a9b3c02329c7",
   "metadata": {},
   "outputs": [],
   "source": [
    "def get_neg_sentiments_by_word(text, threshold=0.80):\n",
    "    tokens = set()\n",
    "\n",
    "    if not text:\n",
    "        return None\n",
    "\n",
    "    for token, pos in text:\n",
    "        try:\n",
    "            if pos_ := swn_tagpos_mapping.get(pos):\n",
    "                score = swn.senti_synsets(token, pos_).__next__().neg_score()\n",
    "                if score > threshold:\n",
    "                    tokens.add((token, pos, score))\n",
    "        except Exception as e:\n",
    "            pass\n",
    "\n",
    "    if tokens:\n",
    "        return tokens\n",
    "    else:\n",
    "        return None\n",
    "\n",
    "\n",
    "def get_pos_sentiments_by_word(text, threshold=0.80):\n",
    "    tokens = set()\n",
    "\n",
    "    if not text:\n",
    "        return None\n",
    "\n",
    "    for token, pos in text:\n",
    "        try:\n",
    "            if pos_ := swn_tagpos_mapping.get(pos):\n",
    "                score = swn.senti_synsets(token, pos_).__next__().pos_score()\n",
    "                if score > threshold:\n",
    "                    tokens.add((token, pos, score))\n",
    "        except Exception as e:\n",
    "            pass\n",
    "\n",
    "    if tokens:\n",
    "        return tokens\n",
    "    else:\n",
    "        return None"
   ]
  },
  {
   "cell_type": "code",
   "execution_count": null,
   "id": "7987b9c3-bb96-47ac-9fb0-1b68154ccafa",
   "metadata": {},
   "outputs": [],
   "source": [
    "df[\"neg_words\"] = df[\"message_tagged_lemmas\"].apply(\n",
    "    lambda x: get_neg_sentiments_by_word(x, 0.5)\n",
    ")"
   ]
  },
  {
   "cell_type": "code",
   "execution_count": null,
   "id": "dfd2988f-c421-45fb-9530-c825aac46351",
   "metadata": {},
   "outputs": [],
   "source": [
    "df[\"pos_words\"] = df[\"message_tagged_lemmas\"].apply(\n",
    "    lambda x: get_pos_sentiments_by_word(x, 0.5)\n",
    ")"
   ]
  },
  {
   "cell_type": "code",
   "execution_count": null,
   "id": "3b5070e1-885a-4691-8e15-4fce64ba850b",
   "metadata": {
    "scrolled": true
   },
   "outputs": [],
   "source": [
    "df[df[\"neg_words\"].notnull()][\"neg_words\"].value_counts()[:10]"
   ]
  },
  {
   "cell_type": "code",
   "execution_count": null,
   "id": "0582d220-b6e7-42e8-998f-2d86feffd51a",
   "metadata": {},
   "outputs": [],
   "source": [
    "df[df[\"pos_words\"].notnull()][\"pos_words\"].value_counts()[:10]"
   ]
  },
  {
   "cell_type": "code",
   "execution_count": null,
   "id": "998ea034-6859-4a51-b72b-34ea878536b7",
   "metadata": {},
   "outputs": [],
   "source": [
    "## ^  - if these words and sentiments are not meaningfull, add these words into stopwords"
   ]
  },
  {
   "cell_type": "code",
   "execution_count": null,
   "id": "0e47dc6a-f758-436a-a703-2326e8d8d7b6",
   "metadata": {},
   "outputs": [],
   "source": [
    "df[\"avg_neg_score\"] = df[\"neg_words\"].apply(\n",
    "    lambda x: sum([w[2] for w in x]) / len(x) if x else 0\n",
    ")\n",
    "\n",
    "df[\"avg_pos_score\"] = df[\"pos_words\"].apply(\n",
    "    lambda x: sum([w[2] for w in x]) / len(x) if x else 0\n",
    ")\n",
    "\n",
    "df[\"one\"] = 1"
   ]
  },
  {
   "cell_type": "code",
   "execution_count": null,
   "id": "5f0cb61e-9037-45db-975b-322683494837",
   "metadata": {},
   "outputs": [],
   "source": [
    "fig, ax = plt.subplots(nrows=1, sharex=True)\n",
    "df = df.set_index(df[\"date\"].dt.date).sort_index()\n",
    "df[\"avg_pos_score\"].cumsum().plot(ax=ax, color=\"green\")\n",
    "df[\"avg_neg_score\"].cumsum().plot(\n",
    "    ax=ax, linestyle=\"--\", color=\"red\", title=\"pos/neg sentiment\"\n",
    ")\n",
    "plt.xticks(rotation=45)\n",
    "plt.legend()\n",
    "plt.show()"
   ]
  },
  {
   "cell_type": "code",
   "execution_count": null,
   "id": "89b6811e-2e34-4595-a7bb-d511c22d2a5f",
   "metadata": {},
   "outputs": [],
   "source": [
    "n = 10\n",
    "top_contributors_emails = df.value_counts(\"email\")[:n].index.to_list()\n",
    "\n",
    "top_contributors = df[df[\"email\"].isin(top_contributors_emails)]\n",
    "\n",
    "top_contributors = (\n",
    "    top_contributors.groupby([\"email\", \"period\"])\n",
    "    .aggregate(\n",
    "        commits=(\"avg_neg_score\", \"count\"),\n",
    "        neg_score=(\"avg_neg_score\", \"sum\"),\n",
    "        pos_score=(\"avg_pos_score\", \"sum\"),\n",
    "    )\n",
    "    .assign(ratio=lambda x: x[\"neg_score\"] / x[\"commits\"])\n",
    "    .assign(ratio_pos=lambda x: x[\"pos_score\"] / x[\"commits\"])\n",
    ")\n",
    "\n",
    "top_contributors\n"
   ]
  },
  {
   "cell_type": "code",
   "execution_count": null,
   "id": "6268404c-d636-4b44-b0cc-36ec3b17c0e6",
   "metadata": {},
   "outputs": [],
   "source": [
    "fig, ax = plt.subplots(1)\n",
    "top_contributors.swaplevel()[\"ratio\"].unstack().plot(ax=ax, kind=\"bar\", stacked=True)\n",
    "ax.legend(\n",
    "    loc=\"upper center\",\n",
    "    bbox_to_anchor=(0.5, -0.2),\n",
    "    fancybox=True,\n",
    "    shadow=True,\n",
    "    ncol=2,\n",
    "    title=\"neg sentiment ratio per contributer\",\n",
    ")\n",
    "plt.tight_layout()\n",
    "plt.show()"
   ]
  },
  {
   "cell_type": "code",
   "execution_count": null,
   "id": "8e4712d6-cc49-475f-a3aa-b8d17605fd51",
   "metadata": {},
   "outputs": [],
   "source": [
    "## ^ outcome: first year commits are usually having higher negative sentiment ratio, than later years"
   ]
  },
  {
   "cell_type": "markdown",
   "id": "14e665ec-0094-4a3c-840f-073052ca3271",
   "metadata": {},
   "source": [
    "## Sentiments - TextBlob"
   ]
  },
  {
   "cell_type": "code",
   "execution_count": null,
   "id": "087e0202-e767-4dc0-8c33-722ed6da3d76",
   "metadata": {},
   "outputs": [],
   "source": [
    "import textblob #it is awesome library "
   ]
  },
  {
   "cell_type": "code",
   "execution_count": null,
   "id": "e98dc631-87f0-4864-b8ca-26d5f469c848",
   "metadata": {},
   "outputs": [],
   "source": [
    "textblob.Sentence(\"i love coffee, its awesome\").sentiment"
   ]
  },
  {
   "cell_type": "code",
   "execution_count": null,
   "id": "c89dc6cd-cee2-4044-9e81-cc354a48e344",
   "metadata": {},
   "outputs": [],
   "source": [
    "df[\"polarity\"] = df[\"message\"].apply(lambda x: textblob.Sentence(x).polarity)\n",
    "df[\"subjectivity\"] = df[\"message\"].apply(lambda x: textblob.Sentence(x).subjectivity)\n",
    "df.sort_values([\"polarity\"]).head(3)"
   ]
  },
  {
   "cell_type": "code",
   "execution_count": null,
   "id": "79f2bbcc-4ca5-4129-bbcd-49f0d7aad25a",
   "metadata": {},
   "outputs": [],
   "source": [
    "df = df.set_index(\"date\")"
   ]
  },
  {
   "cell_type": "code",
   "execution_count": null,
   "id": "02b42f07-edf6-4b88-906b-57c04d068b7c",
   "metadata": {},
   "outputs": [],
   "source": [
    "df.where(df[\"polarity\"] > 0.5)[\"polarity\"].resample(\"Y\").sum().plot(\n",
    "    color=\"green\", kind=\"bar\"\n",
    ")\n",
    "df.where(df[\"polarity\"] < -0.5).groupby(\"period\")[\"polarity\"].sum().plot(\n",
    "    color=\"red\", kind=\"bar\", title=\"polarity by year\"\n",
    ")\n",
    "plt.show()"
   ]
  },
  {
   "cell_type": "code",
   "execution_count": null,
   "id": "ef3a7dfe-225f-41cf-a8bd-ce75d109c4ba",
   "metadata": {},
   "outputs": [],
   "source": [
    "import matplotlib.dates as mdates\n",
    "\n",
    "fig = (\n",
    "    df[df[\"is_bug\"]]\n",
    "    .groupby(\"period\")[\"polarity\"]\n",
    "    .sum()\n",
    "    .diff()\n",
    "    .rename(\"bug\")\n",
    "    .plot(color=\"red\", kind=\"bar\", position=0, width=0.3)\n",
    ")\n",
    "\n",
    "fig = (\n",
    "    df[df[\"is_feature\"]]\n",
    "    .groupby(\"period\")[\"polarity\"]\n",
    "    .sum()\n",
    "    .diff()\n",
    "    .rename(\"feature\")\n",
    "    .plot(\n",
    "        color=\"green\",\n",
    "        kind=\"bar\",\n",
    "        width=0.3,\n",
    "        position=1,\n",
    "        title=\"polarity change by year\",\n",
    "    )\n",
    ")\n",
    "fig.legend()\n",
    "plt.tight_layout()"
   ]
  },
  {
   "cell_type": "code",
   "execution_count": null,
   "id": "23680358-2298-4f3f-a56c-d3b4b1da2846",
   "metadata": {},
   "outputs": [],
   "source": [
    "top_contributors = df[df[\"email\"].isin(top_contributors_emails)]\n",
    "\n",
    "top_contributors = (\n",
    "    top_contributors.groupby(\"email\")\n",
    "    .aggregate(\n",
    "        commits=(\"email\", \"count\"),\n",
    "        polarity=(\"polarity\", \"sum\"),\n",
    "        subjectivity=(\"subjectivity\", \"sum\"),\n",
    "    )\n",
    "    .assign(\n",
    "        polarity_ratio=lambda x: x[\"polarity\"] / x[\"commits\"],\n",
    "        subjectivity_ratio=lambda x: x[\"subjectivity\"] / x[\"commits\"],\n",
    "    )\n",
    "    .sort_values(\"polarity_ratio\", ascending=False)\n",
    ")"
   ]
  },
  {
   "cell_type": "code",
   "execution_count": null,
   "id": "0475a7bc-9768-4380-a48b-e9d146434dd0",
   "metadata": {},
   "outputs": [],
   "source": [
    "top_contributors"
   ]
  },
  {
   "cell_type": "code",
   "execution_count": null,
   "id": "8ccb243a-d85d-4a4c-b1a0-ec06ff8ea5c2",
   "metadata": {},
   "outputs": [],
   "source": [
    "import numpy as np"
   ]
  },
  {
   "cell_type": "code",
   "execution_count": null,
   "id": "cdd367ca-0e33-4196-9044-8b3b8f9f705c",
   "metadata": {},
   "outputs": [],
   "source": [
    "# polarity per year, taking only  abs(0.5)\n",
    "\n",
    "df.groupby(\"period\").agg(\n",
    "    stressed_day_polarity_score=(\"polarity\", \"sum\"),\n",
    "    n_commits=(\"email\", \"count\"),\n",
    "    neg_polarity_n_commits=(\"polarity\", lambda x: sum(x < -0.5)),\n",
    "    pos_polarity_n_commits=(\"polarity\", lambda x: sum(x > +0.5)),\n",
    "    emails=(\"email\", lambda x: Counter(x)),\n",
    ").sort_values(\"neg_polarity_n_commits\", ascending=False).head(5)"
   ]
  },
  {
   "cell_type": "code",
   "execution_count": null,
   "id": "361487f5-cca4-46f0-a594-0738560a9468",
   "metadata": {},
   "outputs": [],
   "source": [
    "# df[df['date'].between(\"2020-05-10\",\"2020-05-10\")].sort_values('polarity')"
   ]
  },
  {
   "cell_type": "code",
   "execution_count": null,
   "id": "0476d6b2-44b0-468e-a9f2-9309ecec3161",
   "metadata": {},
   "outputs": [],
   "source": [
    "# df['adj']=df['message_tagged_lemmas'].apply(lambda x: set([tk[0] for tk in x if 'RB' in tk[1]]))\n",
    "fig,ax=plt.subplots(nrows=1, sharex=True, figsize=(7,4))\n",
    "sns.ecdfplot(df[df['is_feature']], ax=ax,x='polarity', color='green')\n",
    "sns.ecdfplot(df[df['is_bug']],  ax=ax, x='polarity', color='red')\n",
    "plt.title('polarity of feature / bug')\n",
    "plt.show()"
   ]
  },
  {
   "cell_type": "code",
   "execution_count": null,
   "id": "1bdc46c7-9052-4ae7-ae94-3a4fa3c769a1",
   "metadata": {},
   "outputs": [],
   "source": []
  },
  {
   "cell_type": "code",
   "execution_count": null,
   "id": "72573813-d910-4f80-8953-451b8f4505c8",
   "metadata": {},
   "outputs": [],
   "source": []
  },
  {
   "cell_type": "code",
   "execution_count": null,
   "id": "86525f6a-0e66-4b4c-bb9d-6e46110d2d45",
   "metadata": {},
   "outputs": [],
   "source": []
  },
  {
   "cell_type": "code",
   "execution_count": null,
   "id": "d1a8943c-73fe-4be4-9d60-00d3a13a4c18",
   "metadata": {},
   "outputs": [],
   "source": []
  },
  {
   "cell_type": "code",
   "execution_count": null,
   "id": "d578e87f-aeb9-44fe-8e55-3609786975a6",
   "metadata": {},
   "outputs": [],
   "source": []
  },
  {
   "cell_type": "markdown",
   "id": "d9a1a91b-c564-4939-b242-c2ca871508b9",
   "metadata": {},
   "source": [
    "## Deep Learning models for finding emotions "
   ]
  },
  {
   "cell_type": "raw",
   "id": "e95fcf26-eb16-4d32-9ab5-cc207d37ceee",
   "metadata": {},
   "source": [
    "# https://huggingface.co/models\n",
    "\n",
    "## Examples:\n",
    "## emotions\n",
    "## joeddav/distilbert-base-uncased-go-emotions-student\n",
    "## SamLowe/roberta-base-go_emotions"
   ]
  },
  {
   "cell_type": "code",
   "execution_count": null,
   "id": "a49dfbcb-9060-447e-909f-0d3d23375478",
   "metadata": {},
   "outputs": [],
   "source": [
    "# classifier  = pipeline(\n",
    "# model=\"lxyuan/distilbert-base-multilingual-cased-sentiments-student\",\n",
    "# truncation=True,\n",
    "# )"
   ]
  },
  {
   "cell_type": "code",
   "execution_count": null,
   "id": "d5b93e16-3c1c-40bb-a021-0bfb9249ee90",
   "metadata": {},
   "outputs": [],
   "source": [
    "from transformers import pipeline\n",
    "\n",
    "# # Load the BERT-Emotions-Classifier\n",
    "# classifier = pipeline(\n",
    "#     \"text-classification\", top_k=3,truncation=True, model=\"ayoubkirouane/BERT-Emotions-Classifier\"\n",
    "# )\n",
    "\n",
    "classifier = pipeline(\n",
    "    model=\"SamLowe/roberta-base-go_emotions\",\n",
    "    truncation=True,\n",
    "    top_k=3,\n",
    "    return_all_scores=True,\n",
    ")"
   ]
  },
  {
   "cell_type": "code",
   "execution_count": null,
   "id": "6809cd94-1a4e-43ff-89f2-68e003302b9a",
   "metadata": {},
   "outputs": [],
   "source": [
    "text = [\"exciting feature increases the capacity and speed\"]\n",
    "model_outputs = classifier(text, num_workers=8)\n",
    "model_outputs"
   ]
  },
  {
   "cell_type": "code",
   "execution_count": null,
   "id": "4ad1cab1-eb5d-4ef0-8585-78b2d03bc4d8",
   "metadata": {},
   "outputs": [],
   "source": [
    "def get_emotions(text):\n",
    "    model_outputs = classifier(text)\n",
    "    return {\n",
    "        list(emotion.values())[0]: list(emotion.values())[1]\n",
    "        for emotion in model_outputs[0]\n",
    "    }"
   ]
  },
  {
   "cell_type": "code",
   "execution_count": null,
   "id": "0c5b83da-f39e-4476-8a04-52fbb7bb7744",
   "metadata": {},
   "outputs": [],
   "source": [
    "get_emotions(\"i love the most annoying bug, which was crashing the app\")"
   ]
  },
  {
   "cell_type": "code",
   "execution_count": null,
   "id": "2501fe1f-3f09-4785-8771-5752b1aeda72",
   "metadata": {},
   "outputs": [],
   "source": [
    "sample = df.sample(2000)\n",
    "cols = sample.shape[1]\n",
    "sample = sample.join(sample[\"message\"].apply(lambda x: pd.Series(get_emotions(x))))"
   ]
  },
  {
   "cell_type": "code",
   "execution_count": null,
   "id": "fa28d4e5-67de-4c49-8376-d983d75abcf8",
   "metadata": {},
   "outputs": [],
   "source": [
    "emotions=sample.iloc[:, cols:].columns\n",
    "sample.iloc[:, cols:].sum().to_frame()"
   ]
  },
  {
   "cell_type": "code",
   "execution_count": null,
   "id": "c65b3ffb-13a9-47a1-88d4-7874f981e38d",
   "metadata": {},
   "outputs": [],
   "source": [
    "sample.nlargest(5, \"confusion\")"
   ]
  },
  {
   "cell_type": "code",
   "execution_count": null,
   "id": "ed89f273-30cb-4002-9155-98cc2adab267",
   "metadata": {},
   "outputs": [],
   "source": [
    "sample.nlargest(5, \"disgust\")"
   ]
  },
  {
   "cell_type": "code",
   "execution_count": null,
   "id": "89423d58-6870-4c5a-9829-92d7d524730e",
   "metadata": {},
   "outputs": [],
   "source": [
    "sum_emotions=sample[sample['email'].isin(top_contributors_emails)].groupby('email')[emotions].sum()"
   ]
  },
  {
   "cell_type": "code",
   "execution_count": null,
   "id": "93be1191-0208-4f8d-884a-99aec14fa5d1",
   "metadata": {},
   "outputs": [],
   "source": [
    "sum_emotions.style.format('{:,.2f}').background_gradient(cmap='RdYlGn_r', axis=1)"
   ]
  },
  {
   "cell_type": "code",
   "execution_count": null,
   "id": "df23cb61-014e-45e9-9bb3-dab45cba43e6",
   "metadata": {},
   "outputs": [],
   "source": [
    "sum_emotions.drop(columns=['neutral','approval']).style.format('{:,.2f}').highlight_max(color='red', axis=1)"
   ]
  },
  {
   "cell_type": "code",
   "execution_count": null,
   "id": "ff20036e-6716-4ddd-bbb7-ea6bff0688b4",
   "metadata": {},
   "outputs": [],
   "source": [
    "emotions_no_neut=set(emotions)\n",
    "emotions_no_neut.remove('neutral')\n",
    "emotions_no_neut.remove('approval')\n",
    "emotions_no_neut=list(emotions_no_neut)"
   ]
  },
  {
   "cell_type": "code",
   "execution_count": null,
   "id": "cf442387-f72f-43db-aa4e-df152c60a3d3",
   "metadata": {},
   "outputs": [],
   "source": [
    "fig, ax = plt.subplots(1, figsize=(12,7),sharex=True)\n",
    "sample.groupby('period')[emotions_no_neut].sum().plot(ax=ax, kind='bar',stacked=True, title='emotions dynamics')\n",
    "\n",
    "\n",
    "ax.legend(\n",
    "    loc=\"upper center\",\n",
    "    bbox_to_anchor=(0.5, -0.2),\n",
    "    fancybox=True,\n",
    "    shadow=True,\n",
    "    ncol=2,\n",
    "    title=\"neg sentiment ratio per contributer\",\n",
    ")\n",
    "plt.tight_layout()\n",
    "plt.show()"
   ]
  },
  {
   "cell_type": "code",
   "execution_count": null,
   "id": "74ef3ce2-ec17-42e3-b3ab-8ac406b89f69",
   "metadata": {},
   "outputs": [],
   "source": [
    "2020, annoyance "
   ]
  },
  {
   "cell_type": "code",
   "execution_count": null,
   "id": "4646d399-1438-4c4d-a32f-4e13107654f8",
   "metadata": {},
   "outputs": [],
   "source": [
    "fig, ax = plt.subplots(1, figsize=(12, 7), sharex=True)\n",
    "ax2 = ax.twinx()\n",
    "\n",
    "df.groupby(\"period\").size().plot(\n",
    "    ax=ax, kind=\"bar\", title=\"Number of commits per year\", position=1\n",
    ")\n",
    "df.groupby(\"period\").agg(uniq_contrib=(\"email\", \"nunique\")).plot(\n",
    "    ax=ax2, kind=\"bar\", width=0.2, grid=False, position=0, color=\"grey\"\n",
    ")\n",
    "ax.set_ylabel(\"N-commits\")\n",
    "ax2.set_ylabel(\"N-uniq contributors\")\n",
    "plt.tight_layout()\n",
    "plt.show()"
   ]
  },
  {
   "cell_type": "code",
   "execution_count": null,
   "id": "0d7dce43-eb89-4486-bada-b6084f192b0a",
   "metadata": {},
   "outputs": [],
   "source": [
    "dfplot=sample.groupby('period')[emotions_no_neut].sum().T"
   ]
  },
  {
   "cell_type": "code",
   "execution_count": null,
   "id": "4b6da500-77a2-492d-8f1a-55e5ebefad33",
   "metadata": {},
   "outputs": [],
   "source": [
    "fig, ax = plt.subplots(1, figsize=(12, 7), sharex=True)\n",
    "sns.heatmap(dfplot, robust=True)"
   ]
  },
  {
   "cell_type": "code",
   "execution_count": null,
   "id": "fe2d1a0f-d4f3-478c-9d27-215b4db49ba7",
   "metadata": {},
   "outputs": [],
   "source": [
    "dfplot=dfplot.reset_index()"
   ]
  },
  {
   "cell_type": "code",
   "execution_count": null,
   "id": "03aa077e-524f-4b0b-a3af-00e4c12379ee",
   "metadata": {},
   "outputs": [],
   "source": [
    "dfplot.select_dtypes('number').quantile(0.9).max()"
   ]
  },
  {
   "cell_type": "code",
   "execution_count": null,
   "id": "95e61c78-4c51-437c-98cc-816cc2570844",
   "metadata": {},
   "outputs": [],
   "source": [
    "\n",
    "g = sns.PairGrid(dfplot,\n",
    "                 x_vars=dfplot.columns[-10:], y_vars='index',\n",
    "                 height=3, aspect=.55)\n",
    "\n",
    "g.map(sns.barplot, orient=\"h\",\n",
    "      palette=\"flare_r\", linewidth=1, edgecolor=\"w\")\n",
    "g.set(xlim=(0, 0.7), xlabel=\"emotions\", ylabel=\"\")\n",
    "\n",
    "titles=dfplot.columns[-10:]\n",
    "for ax, title in zip(g.axes.flat, titles):\n",
    "    ax.set(title=title)\n",
    "    ax.xaxis.grid(False)\n",
    "    ax.yaxis.grid(True)\n",
    "\n",
    "sns.despine(left=True, bottom=True)"
   ]
  },
  {
   "cell_type": "code",
   "execution_count": null,
   "id": "7b191d9c-9b1f-40fb-a4e6-e21cc744bf65",
   "metadata": {},
   "outputs": [],
   "source": []
  },
  {
   "cell_type": "markdown",
   "id": "2cf2dc2d-1398-4b21-b519-82f0fb86d464",
   "metadata": {},
   "source": [
    "## summarization\n",
    "## https://huggingface.co/facebook/bart-large-cnn"
   ]
  },
  {
   "cell_type": "code",
   "execution_count": null,
   "id": "0383e500-4dbc-4e03-99de-2c97d5ebd404",
   "metadata": {},
   "outputs": [],
   "source": [
    "# ## summary. fb model 1.2 GB\n",
    "from transformers import pipeline\n",
    "summarizator = pipeline(\"summarization\", model=\"facebook/bart-large-cnn\")"
   ]
  },
  {
   "cell_type": "code",
   "execution_count": null,
   "id": "55d520b6-6228-4229-bcbb-93bd41348898",
   "metadata": {},
   "outputs": [],
   "source": [
    "text_sample=  df[(df[\"email\"].isin(top_contributors_emails)) & (df[\"is_feature\"]).fillna(False) & (df['message_lemmas'].str.len()>250)].sample(1)['message'].to_list()[0]\n",
    "text_sample"
   ]
  },
  {
   "cell_type": "code",
   "execution_count": null,
   "id": "2aa880af-0682-4ea9-8eaa-8de137d7590f",
   "metadata": {},
   "outputs": [],
   "source": [
    "summarizator(text_sample,max_length=100)"
   ]
  },
  {
   "cell_type": "code",
   "execution_count": null,
   "id": "e4028d3b-2f0f-454e-b15d-c81fe1e1eddf",
   "metadata": {},
   "outputs": [],
   "source": [
    "summarizator(text_sample,max_length=20)"
   ]
  },
  {
   "cell_type": "code",
   "execution_count": null,
   "id": "e49ff795-eae6-41ae-80c8-b6dc57ad2ffb",
   "metadata": {},
   "outputs": [],
   "source": [
    "To write a short summary what the contributor was doing, we will run summarize twice \n",
    "1st layer is over individual commit message, which would produce a short summary \n",
    "2nd layer on a top of summaries which we've got  "
   ]
  },
  {
   "cell_type": "code",
   "execution_count": null,
   "id": "49d269b8-df5a-4555-b972-6caade35da6c",
   "metadata": {},
   "outputs": [],
   "source": [
    "sample=df[(df[\"email\"].isin(top_contributors_emails[:1])) & (df['is_feature']) & (df['message_lemmas'].str.len()>100)].sample(20)"
   ]
  },
  {
   "cell_type": "code",
   "execution_count": null,
   "id": "716b2cb4-1e49-4031-829d-339b1272528d",
   "metadata": {},
   "outputs": [],
   "source": [
    "sample['summary']=sample['message'].apply(lambda x: summarizator(x,min_length=5,  max_length=20, clean_up_tokenization_spaces=True).pop()['summary_text'])"
   ]
  },
  {
   "cell_type": "code",
   "execution_count": null,
   "id": "b1a58c7a-6491-4448-9a92-cd2fc7aaa1eb",
   "metadata": {},
   "outputs": [],
   "source": [
    "sample[['email','summary','message','is_feature','is_bug']].head(10)"
   ]
  },
  {
   "cell_type": "code",
   "execution_count": null,
   "id": "febb92a8-0395-4b76-aa6a-63e0b0d8dcab",
   "metadata": {},
   "outputs": [],
   "source": [
    "sample['enriched_summary']=sample.apply(lambda x: x['summary'] + ' It is a feature.' if x['is_feature'] else x['summary'] + ' It is a bug.', axis=1)"
   ]
  },
  {
   "cell_type": "code",
   "execution_count": null,
   "id": "39661b5c-381b-44b7-be32-a38b4ec94774",
   "metadata": {},
   "outputs": [],
   "source": []
  },
  {
   "cell_type": "code",
   "execution_count": null,
   "id": "6c90495d-c6e6-4ccd-9f6b-d3c7e3c9aa35",
   "metadata": {},
   "outputs": [],
   "source": [
    "summary=sample.sort_index(ascending=False).head(10).groupby('email').agg(msg=('enriched_summary',lambda x: '. '.join(x)))['msg'].to_list()[0]\n",
    "print(summary)\n",
    "#.apply(lambda x: summarizator(x,min_length=50,  max_length=200))"
   ]
  },
  {
   "cell_type": "code",
   "execution_count": null,
   "id": "2716c92f-99c4-49c0-a669-f4fbc152de58",
   "metadata": {},
   "outputs": [],
   "source": [
    "summarizator(summary,min_length=100,  max_length=200)"
   ]
  },
  {
   "cell_type": "code",
   "execution_count": null,
   "id": "60a4d5b5-99d8-4125-8145-d050900989d8",
   "metadata": {},
   "outputs": [],
   "source": []
  },
  {
   "cell_type": "code",
   "execution_count": null,
   "id": "0c88399c-d3ad-4c83-b351-0640c7f43c5e",
   "metadata": {},
   "outputs": [],
   "source": []
  },
  {
   "cell_type": "markdown",
   "id": "8cb28a9f-2c5b-4c1e-9f7d-ba3fd04c2ea5",
   "metadata": {},
   "source": [
    "## using ChatGPT API  "
   ]
  },
  {
   "cell_type": "code",
   "execution_count": null,
   "id": "b03e7c34-dfe9-42bd-9650-639651c8eb93",
   "metadata": {},
   "outputs": [],
   "source": [
    "from openai import OpenAI\n",
    "client = OpenAI(api_key='')\n",
    "response = client.chat.completions.create(\n",
    "  model=\"gpt-4o\",\n",
    "  messages=[\n",
    "    {\n",
    "      \"role\": \"system\",\n",
    "      \"content\": \"Summarize content, what is bad and what is good\"\n",
    "    },\n",
    "    {\n",
    "      \"role\": \"user\",\n",
    "      \"content\": summary}\n",
    "  ],\n",
    "  temperature=0.5,\n",
    "  max_tokens=200,\n",
    "  top_p=1\n",
    ")\n"
   ]
  },
  {
   "cell_type": "code",
   "execution_count": null,
   "id": "6f415ed6-72f0-4f33-8898-87f38dd6bdc8",
   "metadata": {},
   "outputs": [],
   "source": [
    "print(response.to_json())"
   ]
  },
  {
   "cell_type": "code",
   "execution_count": null,
   "id": "11c3e390-4b9a-41e1-8297-4eae5ade6b5d",
   "metadata": {},
   "outputs": [],
   "source": []
  },
  {
   "cell_type": "code",
   "execution_count": null,
   "id": "340d0131-92a4-431f-a793-b3c89d83506f",
   "metadata": {},
   "outputs": [],
   "source": []
  },
  {
   "cell_type": "code",
   "execution_count": null,
   "id": "f344eb76-c4e0-40a7-b08f-16fd70b5050a",
   "metadata": {},
   "outputs": [],
   "source": []
  },
  {
   "cell_type": "code",
   "execution_count": null,
   "id": "351a0997-7bbc-4b31-a665-03f65ca9a2d0",
   "metadata": {},
   "outputs": [],
   "source": []
  },
  {
   "cell_type": "code",
   "execution_count": null,
   "id": "9e86868a-27d9-4e0d-9b1f-89237d7b501f",
   "metadata": {},
   "outputs": [],
   "source": []
  },
  {
   "cell_type": "code",
   "execution_count": null,
   "id": "fb3b35e1-fbc6-47c7-96ad-294f17e25752",
   "metadata": {},
   "outputs": [],
   "source": []
  }
 ],
 "metadata": {
  "kernelspec": {
   "display_name": "Python 3 (ipykernel)",
   "language": "python",
   "name": "python3"
  },
  "language_info": {
   "codemirror_mode": {
    "name": "ipython",
    "version": 3
   },
   "file_extension": ".py",
   "mimetype": "text/x-python",
   "name": "python",
   "nbconvert_exporter": "python",
   "pygments_lexer": "ipython3",
   "version": "3.12.2"
  }
 },
 "nbformat": 4,
 "nbformat_minor": 5
}
